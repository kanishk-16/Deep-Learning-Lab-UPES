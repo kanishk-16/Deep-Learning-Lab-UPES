{
 "cells": [
  {
   "cell_type": "markdown",
   "metadata": {
    "id": "qcV0GNfbm2MC"
   },
   "source": [
    "______\n",
    "**1. Write a program to initialize a dictionary (of your choice) and create a pandas DataFrame from it. Print the dataframe?**"
   ]
  },
  {
   "cell_type": "code",
   "execution_count": 1,
   "metadata": {
    "id": "b8TpzXd5m2MD"
   },
   "outputs": [
    {
     "name": "stdout",
     "output_type": "stream",
     "text": [
      "    Name  Age\n",
      "0    Tom   20\n",
      "1   nick   21\n",
      "2  krish   19\n",
      "3   jack   18\n"
     ]
    }
   ],
   "source": [
    "import pandas as pd\n",
    "data = {'Name': ['Tom', 'nick', 'krish', 'jack'], 'Age': [20, 21, 19, 18]}\n",
    "df = pd.DataFrame(data)\n",
    "print(df)"
   ]
  },
  {
   "cell_type": "markdown",
   "metadata": {
    "id": "TKhMaxxZm2MD"
   },
   "source": [
    "___\n",
    "**2. Write a program to read the CSV file \"summer.csv\" into a pandas DataFrame \"df\", display the first 5 rows, and print the DataFrame's shape**"
   ]
  },
  {
   "cell_type": "code",
   "execution_count": 2,
   "metadata": {
    "id": "X3KlxWcfm2MD"
   },
   "outputs": [
    {
     "name": "stdout",
     "output_type": "stream",
     "text": [
      "   Year    City     Sport Discipline             Athlete Country Gender  \\\n",
      "0  1896  Athens  Aquatics   Swimming       HAJOS, Alfred     HUN    Men   \n",
      "1  1896  Athens  Aquatics   Swimming    HERSCHMANN, Otto     AUT    Men   \n",
      "2  1896  Athens  Aquatics   Swimming   DRIVAS, Dimitrios     GRE    Men   \n",
      "3  1896  Athens  Aquatics   Swimming  MALOKINIS, Ioannis     GRE    Men   \n",
      "4  1896  Athens  Aquatics   Swimming  CHASAPIS, Spiridon     GRE    Men   \n",
      "\n",
      "                        Event   Medal  \n",
      "0              100M Freestyle    Gold  \n",
      "1              100M Freestyle  Silver  \n",
      "2  100M Freestyle For Sailors  Bronze  \n",
      "3  100M Freestyle For Sailors    Gold  \n",
      "4  100M Freestyle For Sailors  Silver  \n",
      "(31165, 9)\n"
     ]
    }
   ],
   "source": [
    "df = pd.read_csv('summer.csv')\n",
    "print(df.head())\n",
    "print(df.shape)"
   ]
  },
  {
   "cell_type": "markdown",
   "metadata": {
    "id": "hhREPppvm2MD"
   },
   "source": [
    "___\n",
    "**3. Write a program to display the last 10 rows of the DataFrame?**"
   ]
  },
  {
   "cell_type": "code",
   "execution_count": 3,
   "metadata": {
    "id": "0LMVJXRPm2ME"
   },
   "outputs": [
    {
     "name": "stdout",
     "output_type": "stream",
     "text": [
      "       Year    City      Sport           Discipline  \\\n",
      "31155  2012  London  Wrestling  Wrestling Freestyle   \n",
      "31156  2012  London  Wrestling  Wrestling Freestyle   \n",
      "31157  2012  London  Wrestling  Wrestling Freestyle   \n",
      "31158  2012  London  Wrestling  Wrestling Freestyle   \n",
      "31159  2012  London  Wrestling  Wrestling Freestyle   \n",
      "31160  2012  London  Wrestling  Wrestling Freestyle   \n",
      "31161  2012  London  Wrestling  Wrestling Freestyle   \n",
      "31162  2012  London  Wrestling  Wrestling Freestyle   \n",
      "31163  2012  London  Wrestling  Wrestling Freestyle   \n",
      "31164  2012  London  Wrestling  Wrestling Freestyle   \n",
      "\n",
      "                            Athlete Country Gender     Event   Medal  \n",
      "31155                 AHMADOV, Emin     AZE    Men  Wg 74 KG  Bronze  \n",
      "31156          KAZAKEVIC, Aleksandr     LTU    Men  Wg 74 KG  Bronze  \n",
      "31157                 KHUGAEV, Alan     RUS    Men  Wg 84 KG    Gold  \n",
      "31158  EBRAHIM, Karam Mohamed Gaber     EGY    Men  Wg 84 KG  Silver  \n",
      "31159               GAJIYEV, Danyal     KAZ    Men  Wg 84 KG  Bronze  \n",
      "31160            JANIKOWSKI, Damian     POL    Men  Wg 84 KG  Bronze  \n",
      "31161     REZAEI, Ghasem Gholamreza     IRI    Men  Wg 96 KG    Gold  \n",
      "31162                TOTROV, Rustam     RUS    Men  Wg 96 KG  Silver  \n",
      "31163             ALEKSANYAN, Artur     ARM    Men  Wg 96 KG  Bronze  \n",
      "31164                LIDBERG, Jimmy     SWE    Men  Wg 96 KG  Bronze  \n"
     ]
    }
   ],
   "source": [
    "print(df.tail(10))"
   ]
  },
  {
   "cell_type": "markdown",
   "metadata": {
    "id": "F53jodYXm2ME"
   },
   "source": [
    "___\n",
    "**4. Write a program to get a summary of the DataFrame (such as the mean, count, etc.) and print the data types of all columns?**"
   ]
  },
  {
   "cell_type": "code",
   "execution_count": 4,
   "metadata": {
    "id": "Jf8-scn7m2ME"
   },
   "outputs": [
    {
     "name": "stdout",
     "output_type": "stream",
     "text": [
      "               Year\n",
      "count  31165.000000\n",
      "mean    1970.482785\n",
      "std       33.158416\n",
      "min     1896.000000\n",
      "25%     1948.000000\n",
      "50%     1980.000000\n",
      "75%     2000.000000\n",
      "max     2012.000000\n",
      "Year           int64\n",
      "City          object\n",
      "Sport         object\n",
      "Discipline    object\n",
      "Athlete       object\n",
      "Country       object\n",
      "Gender        object\n",
      "Event         object\n",
      "Medal         object\n",
      "dtype: object\n"
     ]
    }
   ],
   "source": [
    "print(df.describe())\n",
    "print(df.dtypes)"
   ]
  },
  {
   "cell_type": "markdown",
   "metadata": {
    "id": "1Qa4jQAlm2ME"
   },
   "source": [
    "___\n",
    "**5. Write a program to select a single column \"Gender\" from the DataFrame?**"
   ]
  },
  {
   "cell_type": "code",
   "execution_count": 5,
   "metadata": {
    "id": "kVCfVte4m2ME"
   },
   "outputs": [
    {
     "name": "stdout",
     "output_type": "stream",
     "text": [
      "0        Men\n",
      "1        Men\n",
      "2        Men\n",
      "3        Men\n",
      "4        Men\n",
      "        ... \n",
      "31160    Men\n",
      "31161    Men\n",
      "31162    Men\n",
      "31163    Men\n",
      "31164    Men\n",
      "Name: Gender, Length: 31165, dtype: object\n"
     ]
    }
   ],
   "source": [
    "print(df['Gender'])"
   ]
  },
  {
   "cell_type": "markdown",
   "metadata": {
    "id": "rxmLBA_5m2ME"
   },
   "source": [
    "___\n",
    "**6. Write a program to select multiple columns \"Year\" and \"City\" from the DataFrame?**"
   ]
  },
  {
   "cell_type": "code",
   "execution_count": 6,
   "metadata": {
    "id": "HgDXSaBzm2ME"
   },
   "outputs": [
    {
     "name": "stdout",
     "output_type": "stream",
     "text": [
      "       Year    City\n",
      "0      1896  Athens\n",
      "1      1896  Athens\n",
      "2      1896  Athens\n",
      "3      1896  Athens\n",
      "4      1896  Athens\n",
      "...     ...     ...\n",
      "31160  2012  London\n",
      "31161  2012  London\n",
      "31162  2012  London\n",
      "31163  2012  London\n",
      "31164  2012  London\n",
      "\n",
      "[31165 rows x 2 columns]\n"
     ]
    }
   ],
   "source": [
    "print(df[['Year', 'City']])"
   ]
  },
  {
   "cell_type": "markdown",
   "metadata": {
    "id": "RR621DH9m2ME"
   },
   "source": [
    "___\n",
    "**7. Write a program to filter rows in a DataFrame based on the condition that Gender = Men ?**"
   ]
  },
  {
   "cell_type": "code",
   "execution_count": 7,
   "metadata": {
    "id": "-6jOhf_qm2ME"
   },
   "outputs": [
    {
     "name": "stdout",
     "output_type": "stream",
     "text": [
      "       Year    City      Sport           Discipline  \\\n",
      "0      1896  Athens   Aquatics             Swimming   \n",
      "1      1896  Athens   Aquatics             Swimming   \n",
      "2      1896  Athens   Aquatics             Swimming   \n",
      "3      1896  Athens   Aquatics             Swimming   \n",
      "4      1896  Athens   Aquatics             Swimming   \n",
      "...     ...     ...        ...                  ...   \n",
      "31160  2012  London  Wrestling  Wrestling Freestyle   \n",
      "31161  2012  London  Wrestling  Wrestling Freestyle   \n",
      "31162  2012  London  Wrestling  Wrestling Freestyle   \n",
      "31163  2012  London  Wrestling  Wrestling Freestyle   \n",
      "31164  2012  London  Wrestling  Wrestling Freestyle   \n",
      "\n",
      "                         Athlete Country Gender                       Event  \\\n",
      "0                  HAJOS, Alfred     HUN    Men              100M Freestyle   \n",
      "1               HERSCHMANN, Otto     AUT    Men              100M Freestyle   \n",
      "2              DRIVAS, Dimitrios     GRE    Men  100M Freestyle For Sailors   \n",
      "3             MALOKINIS, Ioannis     GRE    Men  100M Freestyle For Sailors   \n",
      "4             CHASAPIS, Spiridon     GRE    Men  100M Freestyle For Sailors   \n",
      "...                          ...     ...    ...                         ...   \n",
      "31160         JANIKOWSKI, Damian     POL    Men                    Wg 84 KG   \n",
      "31161  REZAEI, Ghasem Gholamreza     IRI    Men                    Wg 96 KG   \n",
      "31162             TOTROV, Rustam     RUS    Men                    Wg 96 KG   \n",
      "31163          ALEKSANYAN, Artur     ARM    Men                    Wg 96 KG   \n",
      "31164             LIDBERG, Jimmy     SWE    Men                    Wg 96 KG   \n",
      "\n",
      "        Medal  \n",
      "0        Gold  \n",
      "1      Silver  \n",
      "2      Bronze  \n",
      "3        Gold  \n",
      "4      Silver  \n",
      "...       ...  \n",
      "31160  Bronze  \n",
      "31161    Gold  \n",
      "31162  Silver  \n",
      "31163  Bronze  \n",
      "31164  Bronze  \n",
      "\n",
      "[22746 rows x 9 columns]\n"
     ]
    }
   ],
   "source": [
    "print(df[df['Gender'] == 'Men'])"
   ]
  },
  {
   "cell_type": "markdown",
   "metadata": {
    "id": "24rVH2uLm2ME"
   },
   "source": [
    "___\n",
    "**8. Write a program to select and print the first 5 rows and columns 2 to 6 (inclusive) of the DataFrame. Also, print the type of the resulting object?**"
   ]
  },
  {
   "cell_type": "code",
   "execution_count": 8,
   "metadata": {
    "id": "sU7w-f8Tm2ME"
   },
   "outputs": [
    {
     "name": "stdout",
     "output_type": "stream",
     "text": [
      "      Sport Discipline             Athlete Country Gender\n",
      "0  Aquatics   Swimming       HAJOS, Alfred     HUN    Men\n",
      "1  Aquatics   Swimming    HERSCHMANN, Otto     AUT    Men\n",
      "2  Aquatics   Swimming   DRIVAS, Dimitrios     GRE    Men\n",
      "3  Aquatics   Swimming  MALOKINIS, Ioannis     GRE    Men\n",
      "4  Aquatics   Swimming  CHASAPIS, Spiridon     GRE    Men\n"
     ]
    }
   ],
   "source": [
    "print(df.iloc[0:5, 2:7])"
   ]
  },
  {
   "cell_type": "markdown",
   "metadata": {
    "id": "31iA8eXmm2MF"
   },
   "source": [
    "___\n",
    "**9. Write a program to select all rows where the \"Year\" column is greater than 2000?**\n",
    "___"
   ]
  },
  {
   "cell_type": "code",
   "execution_count": 9,
   "metadata": {
    "id": "1A_Nl4Nsm2MF"
   },
   "outputs": [
    {
     "name": "stdout",
     "output_type": "stream",
     "text": [
      "       Year    City      Sport           Discipline  \\\n",
      "25176  2004  Athens   Aquatics               Diving   \n",
      "25177  2004  Athens   Aquatics               Diving   \n",
      "25178  2004  Athens   Aquatics               Diving   \n",
      "25179  2004  Athens   Aquatics               Diving   \n",
      "25180  2004  Athens   Aquatics               Diving   \n",
      "...     ...     ...        ...                  ...   \n",
      "31160  2012  London  Wrestling  Wrestling Freestyle   \n",
      "31161  2012  London  Wrestling  Wrestling Freestyle   \n",
      "31162  2012  London  Wrestling  Wrestling Freestyle   \n",
      "31163  2012  London  Wrestling  Wrestling Freestyle   \n",
      "31164  2012  London  Wrestling  Wrestling Freestyle   \n",
      "\n",
      "                         Athlete Country Gender         Event   Medal  \n",
      "25176                TIAN, Liang     CHN    Men  10M Platform  Bronze  \n",
      "25177                    HU, Jia     CHN    Men  10M Platform    Gold  \n",
      "25178               HELM, Mathew     AUS    Men  10M Platform  Silver  \n",
      "25179              TOURKY, Loudy     AUS  Women  10M Platform  Bronze  \n",
      "25180         NEWBERY, Chantelle     AUS  Women  10M Platform    Gold  \n",
      "...                          ...     ...    ...           ...     ...  \n",
      "31160         JANIKOWSKI, Damian     POL    Men      Wg 84 KG  Bronze  \n",
      "31161  REZAEI, Ghasem Gholamreza     IRI    Men      Wg 96 KG    Gold  \n",
      "31162             TOTROV, Rustam     RUS    Men      Wg 96 KG  Silver  \n",
      "31163          ALEKSANYAN, Artur     ARM    Men      Wg 96 KG  Bronze  \n",
      "31164             LIDBERG, Jimmy     SWE    Men      Wg 96 KG  Bronze  \n",
      "\n",
      "[5989 rows x 9 columns]\n"
     ]
    }
   ],
   "source": [
    "print(df[df['Year'] > 2000])"
   ]
  },
  {
   "cell_type": "markdown",
   "metadata": {
    "id": "Jt63T-yRm2MF"
   },
   "source": [
    "___\n",
    "**10. Write a program to create a new column \"Sport_Discipline\" that concatenates the values from the \"Sport\" and \"Discipline\" columns?**\n",
    "___"
   ]
  },
  {
   "cell_type": "code",
   "execution_count": 10,
   "metadata": {
    "id": "rJ3c1Q0Sm2MF"
   },
   "outputs": [
    {
     "name": "stdout",
     "output_type": "stream",
     "text": [
      "   Year    City     Sport Discipline             Athlete Country Gender  \\\n",
      "0  1896  Athens  Aquatics   Swimming       HAJOS, Alfred     HUN    Men   \n",
      "1  1896  Athens  Aquatics   Swimming    HERSCHMANN, Otto     AUT    Men   \n",
      "2  1896  Athens  Aquatics   Swimming   DRIVAS, Dimitrios     GRE    Men   \n",
      "3  1896  Athens  Aquatics   Swimming  MALOKINIS, Ioannis     GRE    Men   \n",
      "4  1896  Athens  Aquatics   Swimming  CHASAPIS, Spiridon     GRE    Men   \n",
      "\n",
      "                        Event   Medal     Sport_Discipline  \n",
      "0              100M Freestyle    Gold  Aquatics - Swimming  \n",
      "1              100M Freestyle  Silver  Aquatics - Swimming  \n",
      "2  100M Freestyle For Sailors  Bronze  Aquatics - Swimming  \n",
      "3  100M Freestyle For Sailors    Gold  Aquatics - Swimming  \n",
      "4  100M Freestyle For Sailors  Silver  Aquatics - Swimming  \n"
     ]
    }
   ],
   "source": [
    "df['Sport_Discipline'] = df['Sport'] + ' - ' + df['Discipline']\n",
    "print(df.head())"
   ]
  },
  {
   "cell_type": "markdown",
   "metadata": {
    "id": "xS2lYtHAm2MF"
   },
   "source": [
    "___\n",
    "**11. Write a program to group the df DataFrame by the \"Country\" column and calculate the total number of medals for each country. Print the result**\n",
    "___"
   ]
  },
  {
   "cell_type": "code",
   "execution_count": 11,
   "metadata": {
    "id": "7L1-F4fjm2MF"
   },
   "outputs": [
    {
     "name": "stdout",
     "output_type": "stream",
     "text": [
      "Country\n",
      "AFG      2\n",
      "AHO      1\n",
      "ALG     15\n",
      "ANZ     29\n",
      "ARG    259\n",
      "      ... \n",
      "VIE      2\n",
      "YUG    435\n",
      "ZAM      2\n",
      "ZIM     23\n",
      "ZZX     48\n",
      "Name: Medal, Length: 147, dtype: int64\n"
     ]
    }
   ],
   "source": [
    "print(df.groupby('Country')['Medal'].count())"
   ]
  },
  {
   "cell_type": "markdown",
   "metadata": {
    "id": "qR81vO8Cm2MG"
   },
   "source": [
    "___\n",
    "**12. Write a program to find the country that has won the most Gold medals?**\n",
    "___"
   ]
  },
  {
   "cell_type": "code",
   "execution_count": 12,
   "metadata": {
    "id": "pA_Yj8Jhm2MG"
   },
   "outputs": [
    {
     "name": "stdout",
     "output_type": "stream",
     "text": [
      "USA\n"
     ]
    }
   ],
   "source": [
    "gold_medals = df[df['Medal'] == 'Gold']\n",
    "print(gold_medals.groupby('Country')['Medal'].count().idxmax())"
   ]
  },
  {
   "cell_type": "markdown",
   "metadata": {
    "id": "E43_3r2am2MG"
   },
   "source": [
    "___\n",
    "**13. Write a program to find the number of unique cities that have hosted the Olympics?**\n",
    "___"
   ]
  },
  {
   "cell_type": "code",
   "execution_count": 13,
   "metadata": {
    "id": "hO-3d-bKm2MG"
   },
   "outputs": [
    {
     "name": "stdout",
     "output_type": "stream",
     "text": [
      "22\n"
     ]
    }
   ],
   "source": [
    "print(df['City'].nunique())"
   ]
  },
  {
   "cell_type": "markdown",
   "metadata": {
    "id": "vPzC92_8m2MG"
   },
   "source": [
    "___\n",
    "**14. Write a program to find the number of unique sports in the dataset?**\n",
    "___"
   ]
  },
  {
   "cell_type": "code",
   "execution_count": 14,
   "metadata": {
    "id": "N7jLpE6nm2MG"
   },
   "outputs": [
    {
     "name": "stdout",
     "output_type": "stream",
     "text": [
      "43\n"
     ]
    }
   ],
   "source": [
    "print(df['Sport'].nunique())"
   ]
  },
  {
   "cell_type": "markdown",
   "metadata": {
    "id": "hB4T7hQVm2MG"
   },
   "source": [
    "___\n",
    "**15. Write a program to find the number of unique athletes in the dataset?**\n",
    "___"
   ]
  },
  {
   "cell_type": "code",
   "execution_count": 15,
   "metadata": {
    "id": "8P2_R4Qam2MG"
   },
   "outputs": [
    {
     "name": "stdout",
     "output_type": "stream",
     "text": [
      "22762\n"
     ]
    }
   ],
   "source": [
    "print(df['Athlete'].nunique())"
   ]
  },
  {
   "cell_type": "markdown",
   "metadata": {
    "id": "Kq-32j1Km2MG"
   },
   "source": [
    "___\n",
    "**16. Write a program to find the athlete who has won the most medals?**\n",
    "___"
   ]
  },
  {
   "cell_type": "code",
   "execution_count": 16,
   "metadata": {
    "id": "YwVd7vWkm2MG"
   },
   "outputs": [
    {
     "name": "stdout",
     "output_type": "stream",
     "text": [
      "PHELPS, Michael\n"
     ]
    }
   ],
   "source": [
    "print(df['Athlete'].value_counts().idxmax())"
   ]
  },
  {
   "cell_type": "markdown",
   "metadata": {
    "id": "9tG7fUq1m2MG"
   },
   "source": [
    "___\n",
    "**17. Write a program to find the number of medals won by the United States in the 2012 Summer Olympics?**\n",
    "___"
   ]
  },
  {
   "cell_type": "code",
   "execution_count": 17,
   "metadata": {
    "id": "e8Pj1J-om2MH"
   },
   "outputs": [
    {
     "name": "stdout",
     "output_type": "stream",
     "text": [
      "250\n"
     ]
    }
   ],
   "source": [
    "print(df[(df['Country'] == 'USA') & (df['Year'] == 2012)].shape[0])"
   ]
  },
  {
   "cell_type": "markdown",
   "metadata": {
    "id": "0B1KxPqmm2MH"
   },
   "source": [
    "___\n",
    "**18. Write a program to count the number of medals for each medal type (Gold, Silver, Bronze) for China in the 2008 Summer Olympics?**\n",
    "___"
   ]
  },
  {
   "cell_type": "code",
   "execution_count": 18,
   "metadata": {
    "id": "L1Y_dJqwm2MH"
   },
   "outputs": [
    {
     "name": "stdout",
     "output_type": "stream",
     "text": [
      "Medal\n",
      "Gold      74\n",
      "Bronze    57\n",
      "Silver    53\n",
      "Name: count, dtype: int64\n"
     ]
    }
   ],
   "source": [
    "print(df[(df['Country'] == 'CHN') & (df['Year'] == 2008)]['Medal'].value_counts())"
   ]
  },
  {
   "cell_type": "markdown",
   "metadata": {
    "id": "b3r4u7fDm2MH"
   },
   "source": [
    "___\n",
    "**19. Write a program to group the df DataFrame by the \"Country\" column and find the number of unique athletes in each country. Print the result**\n",
    "___"
   ]
  },
  {
   "cell_type": "code",
   "execution_count": 19,
   "metadata": {
    "id": "qF5-f6sKm2MH"
   },
   "outputs": [
    {
     "name": "stdout",
     "output_type": "stream",
     "text": [
      "Country\n",
      "AFG      1\n",
      "AHO      1\n",
      "ALG     14\n",
      "ANZ     25\n",
      "ARG    221\n",
      "      ... \n",
      "VIE      2\n",
      "YUG    351\n",
      "ZAM      2\n",
      "ZIM     17\n",
      "ZZX     48\n",
      "Name: Athlete, Length: 147, dtype: int64\n"
     ]
    }
   ],
   "source": [
    "print(df.groupby('Country')['Athlete'].nunique())"
   ]
  },
  {
   "cell_type": "markdown",
   "metadata": {
    "id": "QPwEMGiOm2MH"
   },
   "source": [
    "___\n",
    "**20. Write a program to group the df DataFrame by the \"Athlete\" column and find the total number of medals won by each athlete. Print the athlete's name and the total number of medals they have won.**"
   ]
  },
  {
   "cell_type": "code",
   "execution_count": 20,
   "metadata": {
    "id": "L7LEmyW8m2MH"
   },
   "outputs": [
    {
     "name": "stdout",
     "output_type": "stream",
     "text": [
      "Athlete\n",
      "AABYE, Edgar                 1\n",
      "AALTONEN, Arvo Ossian        2\n",
      "AALTONEN, Paavo Johannes     5\n",
      "AAMODT, Ragnhild             1\n",
      "AANING, Alf Lied             1\n",
      "                            ..\n",
      "ÖSTERVOLD, Jan Olsen         1\n",
      "ÖSTERVOLD, Kristian Olsen    1\n",
      "ÖSTERVOLD, Ole Olsen         1\n",
      "ÖSTMO, Ole                   4\n",
      "ÖSTRAND, Per-Olof            1\n",
      "Name: Medal, Length: 22762, dtype: int64\n"
     ]
    }
   ],
   "source": [
    "print(df.groupby('Athlete')['Medal'].count())"
   ]
  },
  {
   "cell_type": "markdown",
   "metadata": {
    "id": "pBOrlEawm2MH"
   },
   "source": [
    "___\n",
    "**21. Write a program to group the df DataFrame by the \"Sport\" column and calculate the number of each type of medal (Gold, Silver, Bronze) for each sport. Print the results.**"
   ]
  },
  {
   "cell_type": "code",
   "execution_count": 21,
   "metadata": {
    "id": "L7LEmyW8m2MH"
   },
   "outputs": [
    {
     "name": "stdout",
     "output_type": "stream",
     "text": [
      "Medal              Bronze  Gold  Silver\n",
      "Sport                                  \n",
      "Aquatics             1365  1421    1384\n",
      "Archery                90   126     113\n",
      "Athletics            1199  1215    1224\n",
      "Badminton              52    46      46\n",
      "Baseball              112   111     112\n",
      "Basketball            334   342     336\n",
      "Basque Pelota           0     2       2\n",
      "Boxing                416   239     239\n",
      "Canoe                  27    27      27\n",
      "Canoe / Kayak         334   334     334\n",
      "Cricket                 0    12      12\n",
      "Croquet                 2     4       2\n",
      "Cycling               365   371     369\n",
      "Equestrian            306   320     313\n",
      "Fencing               519   552     542\n",
      "Football              509   503     485\n",
      "Golf                    4    13      13\n",
      "Gymnastics            731   820     756\n",
      "Handball              323   321     329\n",
      "Hockey                459   486     477\n",
      "Ice Hockey              8     8      11\n",
      "Jeu de paume            1     1       1\n",
      "Judo                  246   123     122\n",
      "Lacrosse                0    28      31\n",
      "Modern Pentathlon      60    60      60\n",
      "Polo                   17    22      27\n",
      "Rackets                 4     3       3\n",
      "Roque                   1     1       1\n",
      "Rowing                888   890     889\n",
      "Rugby                  23    78      91\n",
      "Sailing               325   412     372\n",
      "Shooting              380   384     386\n",
      "Skating                 9     9       9\n",
      "Softball               60    60      60\n",
      "Table Tennis           52    46      46\n",
      "Taekwondo              48    32      32\n",
      "Tennis                114    92      90\n",
      "Triathlon               8     8       8\n",
      "Tug of War             22    36      36\n",
      "Volleyball            331   332     331\n",
      "Water Motorsports       0     5       0\n",
      "Weightlifting         197   200     196\n",
      "Wrestling             428   391     393\n"
     ]
    }
   ],
   "source": [
    "print(df.groupby(['Sport', 'Medal']).size().unstack(fill_value=0))"
   ]
  },
  {
   "cell_type": "markdown",
   "metadata": {
    "id": "pBOrlEawm2MH"
   },
   "source": [
    "### Good Luck!"
   ]
  }
 ],
 "metadata": {
  "kernelspec": {
   "display_name": "Python 3",
   "language": "python",
   "name": "python3"
  },
  "language_info": {
   "codemirror_mode": {
    "name": "ipython",
    "version": 3
   },
   "file_extension": ".py",
   "mimetype": "text/x-python",
   "name": "python",
   "nbconvert_exporter": "python",
   "pygments_lexer": "ipython3",
   "version": "3.10.4"
  }
 },
 "nbformat": 4,
 "nbformat_minor": 4
}
