{
 "cells": [
  {
   "cell_type": "markdown",
   "metadata": {
    "id": "5YNIISPploTY"
   },
   "source": [
    "_____\n",
    "**Write a program to create an array [10, 5, 7, 20, 15, -9, 33], print it, Find the maximum and minimum Value of the array**"
   ]
  },
  {
   "cell_type": "code",
   "execution_count": 1,
   "metadata": {
    "id": "LGwQ0y0wloTY"
   },
   "outputs": [
    {
     "name": "stdout",
     "output_type": "stream",
     "text": [
      "[10  5  7 20 15 -9 33]\n",
      "Maximum value: 33\n",
      "Minimum value: -9\n"
     ]
    }
   ],
   "source": [
    "import numpy as np\n",
    "a = np.array([10, 5, 7, 20, 15, -9, 33])\n",
    "print(a)\n",
    "print('Maximum value:', np.max(a))\n",
    "print('Minimum value:', np.min(a))"
   ]
  },
  {
   "cell_type": "markdown",
   "metadata": {
    "id": "CjKQrl4ZloTY"
   },
   "source": [
    "______\n",
    "**Write a program to accept an array of elements and find the maximum without using max function**"
   ]
  },
  {
   "cell_type": "code",
   "execution_count": 2,
   "metadata": {
    "id": "jFqGo32uloTY"
   },
   "outputs": [
    {
     "name": "stdout",
     "output_type": "stream",
     "text": [
      "Maximum value: 33\n"
     ]
    }
   ],
   "source": [
    "a = np.array([10, 5, 7, 20, 15, -9, 33])\n",
    "a.sort()\n",
    "print('Maximum value:', a[-1])"
   ]
  },
  {
   "cell_type": "markdown",
   "metadata": {
    "id": "V1Tbn_avloTY"
   },
   "source": [
    "___\n",
    "**Write a program to accept two matrices [[1,2],[3,4]], [[5,6],[7,8]]and find their sum**\n",
    "___"
   ]
  },
  {
   "cell_type": "code",
   "execution_count": 3,
   "metadata": {
    "id": "BAnEYw-gloTY"
   },
   "outputs": [
    {
     "name": "stdout",
     "output_type": "stream",
     "text": [
      "[[ 6  8]\n",
      " [10 12]]\n"
     ]
    }
   ],
   "source": [
    "a = np.array([[1,2],[3,4]])\n",
    "b = np.array([[5,6],[7,8]])\n",
    "print(a+b)"
   ]
  },
  {
   "cell_type": "markdown",
   "metadata": {
    "id": "XbXh0CgiloTY"
   },
   "source": [
    "___\n",
    "**Write a program to accept a 3 X 3 matrix and find the transpose of the same**\n",
    "___"
   ]
  },
  {
   "cell_type": "code",
   "execution_count": 4,
   "metadata": {
    "id": "o-a5-PqWloTZ"
   },
   "outputs": [
    {
     "name": "stdout",
     "output_type": "stream",
     "text": [
      "[[1 4 7]\n",
      " [2 5 8]\n",
      " [3 6 9]]\n"
     ]
    }
   ],
   "source": [
    "a = np.array([[1,2,3],[4,5,6],[7,8,9]])\n",
    "print(a.T)"
   ]
  },
  {
   "cell_type": "markdown",
   "metadata": {
    "id": "kXjLz1KbloTZ"
   },
   "source": [
    "____\n",
    "**Write a program to take a 4 X 4 matrix as input from the user and find the sum of all the elements of the matrix**\n",
    "____"
   ]
  },
  {
   "cell_type": "code",
   "execution_count": 5,
   "metadata": {
    "id": "M_lQ_eQfloTZ"
   },
   "outputs": [
    {
     "name": "stdout",
     "output_type": "stream",
     "text": [
      "136\n"
     ]
    }
   ],
   "source": [
    "a = np.array([[1,2,3,4],[5,6,7,8],[9,10,11,12],[13,14,15,16]])\n",
    "print(np.sum(a))"
   ]
  },
  {
   "cell_type": "markdown",
   "metadata": {
    "id": "0-h4_o0cloTZ"
   },
   "source": [
    "___\n",
    "**Write a program to take a 5 X 5 matrix from the user and find the sum of each column of the matrix**\n",
    "___"
   ]
  },
  {
   "cell_type": "code",
   "execution_count": 6,
   "metadata": {
    "id": "b-w1l22zloTZ"
   },
   "outputs": [
    {
     "name": "stdout",
     "output_type": "stream",
     "text": [
      "[55 60 65 70 75]\n"
     ]
    }
   ],
   "source": [
    "a = np.array([[1,2,3,4,5],[6,7,8,9,10],[11,12,13,14,15],[16,17,18,19,20],[21,22,23,24,25]])\n",
    "print(np.sum(a, axis=0))"
   ]
  },
  {
   "cell_type": "markdown",
   "metadata": {
    "id": "Qz4h57yiloTZ"
   },
   "source": [
    "____\n",
    "**Write a program to take a 6 X 6 matrix from the user and find the sum of each row of the matrix**\n",
    "____"
   ]
  },
  {
   "cell_type": "code",
   "execution_count": 7,
   "metadata": {
    "id": "R4tB6S0WloTZ"
   },
   "outputs": [
    {
     "name": "stdout",
     "output_type": "stream",
     "text": [
      "[ 21  57  93 129 165 201]\n"
     ]
    }
   ],
   "source": [
    "a = np.array([[1,2,3,4,5,6],[7,8,9,10,11,12],[13,14,15,16,17,18],[19,20,21,22,23,24],[25,26,27,28,29,30],[31,32,33,34,35,36]])\n",
    "print(np.sum(a, axis=1))"
   ]
  },
  {
   "cell_type": "markdown",
   "metadata": {
    "id": "hBfO3Fm_loTZ"
   },
   "source": [
    "___\n",
    "**Write a program to initialize a 4 X 5 matrix, with random integers and then compute the sine of each element in the matrix and print it**"
   ]
  },
  {
   "cell_type": "code",
   "execution_count": 8,
   "metadata": {
    "id": "HXJgYMTDloTZ"
   },
   "outputs": [
    {
     "name": "stdout",
     "output_type": "stream",
     "text": [
      "[[-0.7568025   0.41211849  0.90929743 -0.7568025   0.14112001]\n",
      " [ 0.84147098  0.84147098  0.41211849  0.14112001 -0.7568025 ]\n",
      " [-0.2794155   0.84147098  0.14112001  0.14112001  0.98935825]\n",
      " [-0.2794155  -0.95892427  0.6569866  -0.2794155   0.90929743]]\n"
     ]
    }
   ],
   "source": [
    "a = np.random.randint(1, 10, size=(4,5))\n",
    "print(np.sin(a))"
   ]
  },
  {
   "cell_type": "markdown",
   "metadata": {
    "id": "-St006l8loTZ"
   },
   "source": [
    "___\n",
    "**Write a program to generate a ranodm matrix of size 5 X 6. Consider the 3rd and 4th row; and 2nd, 3rd and 4th column and print the resultant matrix using slicing**"
   ]
  },
  {
   "cell_type": "code",
   "execution_count": 9,
   "metadata": {
    "id": "SUSwF0zRloTZ"
   },
   "outputs": [
    {
     "name": "stdout",
     "output_type": "stream",
     "text": [
      "[[0.77227481 0.24808034 0.56254528]\n",
      " [0.15145108 0.54367242 0.49459102]]\n"
     ]
    }
   ],
   "source": [
    "a = np.random.rand(5,6)\n",
    "print(a[2:4, 1:4])"
   ]
  },
  {
   "cell_type": "markdown",
   "metadata": {
    "id": "np6xZQWTloTa"
   },
   "source": [
    "### Great Job!"
   ]
  }
 ],
 "metadata": {
  "kernelspec": {
   "display_name": "Python 3",
   "language": "python",
   "name": "python3"
  },
  "language_info": {
   "codemirror_mode": {
    "name": "ipython",
    "version": 3
   },
   "file_extension": ".py",
   "mimetype": "text/x-python",
   "name": "python",
   "nbconvert_exporter": "python",
   "pygments_lexer": "ipython3",
   "version": "3.10.4"
  }
 },
 "nbformat": 4,
 "nbformat_minor": 4
}
